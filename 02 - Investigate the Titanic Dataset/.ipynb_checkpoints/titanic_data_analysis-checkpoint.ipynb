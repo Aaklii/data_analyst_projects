{
 "cells": [
  {
   "cell_type": "markdown",
   "metadata": {},
   "source": [
    "# Titanic Data Analysis"
   ]
  },
  {
   "cell_type": "markdown",
   "metadata": {},
   "source": [
    "## Introduction"
   ]
  },
  {
   "cell_type": "markdown",
   "metadata": {},
   "source": [
    "This report is a data analysis from disaster using the Titanic Data from the Kaggle dataset. The purpose of this analysis is to practice the concept of data analysis using real world dataset to answer some question. For this analysis, I will be using Python and four data analysis libraries: Pandas, Numpy, Matplotlib, Scipy, and Seaborn."
   ]
  },
  {
   "cell_type": "markdown",
   "metadata": {},
   "source": [
    "## Questions"
   ]
  },
  {
   "cell_type": "markdown",
   "metadata": {},
   "source": [
    "\"One of the reasons that the shipwreck led to such loss of life was that there were not enough lifeboats for the passengers and crew. Although there was some element of luck involved in surviving the sinking, some groups of people were more likely to survive than others, such as women, children, and the upper-class.\" - https://www.kaggle.com/c/titanic"
   ]
  },
  {
   "cell_type": "markdown",
   "metadata": {},
   "source": [
    "From the dataset description page in Kaggle, we can see that they state women, children, and the upper-class have higher survive chance than men, adult, and the lower-class. However, how do they come up with this assumption? I will test their assumption by answering the following question using the dataset they provided:"
   ]
  },
  {
   "cell_type": "markdown",
   "metadata": {},
   "source": [
    "1. **Did higher social-economic status caused a higher survival rate?**\n",
    "2. **Did age, regardless of sex, determine your chances of survival?**\n",
    "3. **Did women have higher chance to survival than adult male?**"
   ]
  },
  {
   "cell_type": "markdown",
   "metadata": {},
   "source": [
    "## Data Wrangling"
   ]
  },
  {
   "cell_type": "markdown",
   "metadata": {},
   "source": [
    "Before any data analysis, it is crucial to investigate and clean up the dataset(s) we are going to use. There are 4 data wrangling steps we should perform before we are going to answer the above questions."
   ]
  },
  {
   "cell_type": "markdown",
   "metadata": {},
   "source": [
    "### 1. Dataset Description"
   ]
  },
  {
   "cell_type": "markdown",
   "metadata": {},
   "source": [
    "(from https://www.kaggle.com/c/titanic)\n",
    "* survival: Survival (0 = No; 1 = Yes)\n",
    "* pclass: Passenger Class (1 = 1st; 2 = 2nd; 3 = 3rd)\n",
    "* name: Name\n",
    "* sex: Sex\n",
    "* age: Age\n",
    "* sibsp: Number of Siblings/Spouses Aboard\n",
    "* parch: Number of Parents/Children Aboard\n",
    "* ticket: Ticket Number\n",
    "* fare: Passenger Fare\n",
    "* cabin: Cabin\n",
    "* embarked: Port of Embarkation (C = Cherbourg; Q = Queenstown; S = Southampton)"
   ]
  },
  {
   "cell_type": "markdown",
   "metadata": {},
   "source": [
    "**Special Notes:**\n",
    "* Pclass is a proxy for socio-economic status (SES) 1st ~ Upper; 2nd ~ Middle; 3rd ~ Lower\n",
    "* Age is in Years; Fractional if Age less than One (1) If the Age is Estimated, it is in the form xx.5"
   ]
  },
  {
   "cell_type": "markdown",
   "metadata": {},
   "source": [
    "With respect to the family relation variables (i.e. sibsp and parch) some relations were ignored. The following are the definitions used for sibsp and parch.\n",
    "* Sibling: Brother, Sister, Stepbrother, or Stepsister of Passenger Aboard Titanic\n",
    "* Spouse: Husband or Wife of Passenger Aboard Titanic (Mistresses and Fiances Ignored)\n",
    "* Parent: Mother or Father of Passenger Aboard Titanic\n",
    "* Child: Son, Daughter, Stepson, or Stepdaughter of Passenger Aboard Titanic"
   ]
  },
  {
   "cell_type": "markdown",
   "metadata": {},
   "source": [
    "Other family relatives excluded from this study include cousins, nephews/nieces, aunts/uncles, and in-laws. Some children travelled only with a nanny, therefore parch=0 for them. As well, some travelled with very close friends or neighbors in a village, however, the definitions do not support such relations."
   ]
  },
  {
   "cell_type": "markdown",
   "metadata": {},
   "source": [
    "### 2. Load Data from CSVs"
   ]
  },
  {
   "cell_type": "markdown",
   "metadata": {},
   "source": [
    "I will import all the necessary libraries at the begining, so no need to add more libraries later."
   ]
  },
  {
   "cell_type": "code",
   "execution_count": 1,
   "metadata": {
    "collapsed": true
   },
   "outputs": [],
   "source": [
    "# Render plots inline\n",
    "%matplotlib inline\n",
    "\n",
    "# Import libraries\n",
    "import pandas as pd\n",
    "import numpy as np\n",
    "import matplotlib.pyplot as plt\n",
    "import scipy.stats as sp\n",
    "import seaborn as sns\n",
    "\n",
    "# Set style for all graphs\n",
    "sns.set_style(\"dark\")\n",
    "\n",
    "## Read in the data from titanic-data.csv \n",
    "## and store the results in the below variable.\n",
    "## Then look at the first row.\n",
    "titanicData = pd.read_csv('titanic-data.csv')"
   ]
  },
  {
   "cell_type": "code",
   "execution_count": 2,
   "metadata": {},
   "outputs": [
    {
     "data": {
      "text/html": [
       "<div>\n",
       "<style>\n",
       "    .dataframe thead tr:only-child th {\n",
       "        text-align: right;\n",
       "    }\n",
       "\n",
       "    .dataframe thead th {\n",
       "        text-align: left;\n",
       "    }\n",
       "\n",
       "    .dataframe tbody tr th {\n",
       "        vertical-align: top;\n",
       "    }\n",
       "</style>\n",
       "<table border=\"1\" class=\"dataframe\">\n",
       "  <thead>\n",
       "    <tr style=\"text-align: right;\">\n",
       "      <th></th>\n",
       "      <th>PassengerId</th>\n",
       "      <th>Survived</th>\n",
       "      <th>Pclass</th>\n",
       "      <th>Name</th>\n",
       "      <th>Sex</th>\n",
       "      <th>Age</th>\n",
       "      <th>SibSp</th>\n",
       "      <th>Parch</th>\n",
       "      <th>Ticket</th>\n",
       "      <th>Fare</th>\n",
       "      <th>Cabin</th>\n",
       "      <th>Embarked</th>\n",
       "    </tr>\n",
       "  </thead>\n",
       "  <tbody>\n",
       "    <tr>\n",
       "      <th>0</th>\n",
       "      <td>1</td>\n",
       "      <td>0</td>\n",
       "      <td>3</td>\n",
       "      <td>Braund, Mr. Owen Harris</td>\n",
       "      <td>male</td>\n",
       "      <td>22.0</td>\n",
       "      <td>1</td>\n",
       "      <td>0</td>\n",
       "      <td>A/5 21171</td>\n",
       "      <td>7.2500</td>\n",
       "      <td>NaN</td>\n",
       "      <td>S</td>\n",
       "    </tr>\n",
       "    <tr>\n",
       "      <th>1</th>\n",
       "      <td>2</td>\n",
       "      <td>1</td>\n",
       "      <td>1</td>\n",
       "      <td>Cumings, Mrs. John Bradley (Florence Briggs Th...</td>\n",
       "      <td>female</td>\n",
       "      <td>38.0</td>\n",
       "      <td>1</td>\n",
       "      <td>0</td>\n",
       "      <td>PC 17599</td>\n",
       "      <td>71.2833</td>\n",
       "      <td>C85</td>\n",
       "      <td>C</td>\n",
       "    </tr>\n",
       "    <tr>\n",
       "      <th>2</th>\n",
       "      <td>3</td>\n",
       "      <td>1</td>\n",
       "      <td>3</td>\n",
       "      <td>Heikkinen, Miss. Laina</td>\n",
       "      <td>female</td>\n",
       "      <td>26.0</td>\n",
       "      <td>0</td>\n",
       "      <td>0</td>\n",
       "      <td>STON/O2. 3101282</td>\n",
       "      <td>7.9250</td>\n",
       "      <td>NaN</td>\n",
       "      <td>S</td>\n",
       "    </tr>\n",
       "    <tr>\n",
       "      <th>3</th>\n",
       "      <td>4</td>\n",
       "      <td>1</td>\n",
       "      <td>1</td>\n",
       "      <td>Futrelle, Mrs. Jacques Heath (Lily May Peel)</td>\n",
       "      <td>female</td>\n",
       "      <td>35.0</td>\n",
       "      <td>1</td>\n",
       "      <td>0</td>\n",
       "      <td>113803</td>\n",
       "      <td>53.1000</td>\n",
       "      <td>C123</td>\n",
       "      <td>S</td>\n",
       "    </tr>\n",
       "    <tr>\n",
       "      <th>4</th>\n",
       "      <td>5</td>\n",
       "      <td>0</td>\n",
       "      <td>3</td>\n",
       "      <td>Allen, Mr. William Henry</td>\n",
       "      <td>male</td>\n",
       "      <td>35.0</td>\n",
       "      <td>0</td>\n",
       "      <td>0</td>\n",
       "      <td>373450</td>\n",
       "      <td>8.0500</td>\n",
       "      <td>NaN</td>\n",
       "      <td>S</td>\n",
       "    </tr>\n",
       "  </tbody>\n",
       "</table>\n",
       "</div>"
      ],
      "text/plain": [
       "   PassengerId  Survived  Pclass  \\\n",
       "0            1         0       3   \n",
       "1            2         1       1   \n",
       "2            3         1       3   \n",
       "3            4         1       1   \n",
       "4            5         0       3   \n",
       "\n",
       "                                                Name     Sex   Age  SibSp  \\\n",
       "0                            Braund, Mr. Owen Harris    male  22.0      1   \n",
       "1  Cumings, Mrs. John Bradley (Florence Briggs Th...  female  38.0      1   \n",
       "2                             Heikkinen, Miss. Laina  female  26.0      0   \n",
       "3       Futrelle, Mrs. Jacques Heath (Lily May Peel)  female  35.0      1   \n",
       "4                           Allen, Mr. William Henry    male  35.0      0   \n",
       "\n",
       "   Parch            Ticket     Fare Cabin Embarked  \n",
       "0      0         A/5 21171   7.2500   NaN        S  \n",
       "1      0          PC 17599  71.2833   C85        C  \n",
       "2      0  STON/O2. 3101282   7.9250   NaN        S  \n",
       "3      0            113803  53.1000  C123        S  \n",
       "4      0            373450   8.0500   NaN        S  "
      ]
     },
     "execution_count": 2,
     "metadata": {},
     "output_type": "execute_result"
    }
   ],
   "source": [
    "# Print the first few records to review data and format\n",
    "titanicData.head()"
   ]
  },
  {
   "cell_type": "code",
   "execution_count": 3,
   "metadata": {},
   "outputs": [
    {
     "data": {
      "text/html": [
       "<div>\n",
       "<style>\n",
       "    .dataframe thead tr:only-child th {\n",
       "        text-align: right;\n",
       "    }\n",
       "\n",
       "    .dataframe thead th {\n",
       "        text-align: left;\n",
       "    }\n",
       "\n",
       "    .dataframe tbody tr th {\n",
       "        vertical-align: top;\n",
       "    }\n",
       "</style>\n",
       "<table border=\"1\" class=\"dataframe\">\n",
       "  <thead>\n",
       "    <tr style=\"text-align: right;\">\n",
       "      <th></th>\n",
       "      <th>PassengerId</th>\n",
       "      <th>Survived</th>\n",
       "      <th>Pclass</th>\n",
       "      <th>Name</th>\n",
       "      <th>Sex</th>\n",
       "      <th>Age</th>\n",
       "      <th>SibSp</th>\n",
       "      <th>Parch</th>\n",
       "      <th>Ticket</th>\n",
       "      <th>Fare</th>\n",
       "      <th>Cabin</th>\n",
       "      <th>Embarked</th>\n",
       "    </tr>\n",
       "  </thead>\n",
       "  <tbody>\n",
       "    <tr>\n",
       "      <th>886</th>\n",
       "      <td>887</td>\n",
       "      <td>0</td>\n",
       "      <td>2</td>\n",
       "      <td>Montvila, Rev. Juozas</td>\n",
       "      <td>male</td>\n",
       "      <td>27.0</td>\n",
       "      <td>0</td>\n",
       "      <td>0</td>\n",
       "      <td>211536</td>\n",
       "      <td>13.00</td>\n",
       "      <td>NaN</td>\n",
       "      <td>S</td>\n",
       "    </tr>\n",
       "    <tr>\n",
       "      <th>887</th>\n",
       "      <td>888</td>\n",
       "      <td>1</td>\n",
       "      <td>1</td>\n",
       "      <td>Graham, Miss. Margaret Edith</td>\n",
       "      <td>female</td>\n",
       "      <td>19.0</td>\n",
       "      <td>0</td>\n",
       "      <td>0</td>\n",
       "      <td>112053</td>\n",
       "      <td>30.00</td>\n",
       "      <td>B42</td>\n",
       "      <td>S</td>\n",
       "    </tr>\n",
       "    <tr>\n",
       "      <th>888</th>\n",
       "      <td>889</td>\n",
       "      <td>0</td>\n",
       "      <td>3</td>\n",
       "      <td>Johnston, Miss. Catherine Helen \"Carrie\"</td>\n",
       "      <td>female</td>\n",
       "      <td>NaN</td>\n",
       "      <td>1</td>\n",
       "      <td>2</td>\n",
       "      <td>W./C. 6607</td>\n",
       "      <td>23.45</td>\n",
       "      <td>NaN</td>\n",
       "      <td>S</td>\n",
       "    </tr>\n",
       "    <tr>\n",
       "      <th>889</th>\n",
       "      <td>890</td>\n",
       "      <td>1</td>\n",
       "      <td>1</td>\n",
       "      <td>Behr, Mr. Karl Howell</td>\n",
       "      <td>male</td>\n",
       "      <td>26.0</td>\n",
       "      <td>0</td>\n",
       "      <td>0</td>\n",
       "      <td>111369</td>\n",
       "      <td>30.00</td>\n",
       "      <td>C148</td>\n",
       "      <td>C</td>\n",
       "    </tr>\n",
       "    <tr>\n",
       "      <th>890</th>\n",
       "      <td>891</td>\n",
       "      <td>0</td>\n",
       "      <td>3</td>\n",
       "      <td>Dooley, Mr. Patrick</td>\n",
       "      <td>male</td>\n",
       "      <td>32.0</td>\n",
       "      <td>0</td>\n",
       "      <td>0</td>\n",
       "      <td>370376</td>\n",
       "      <td>7.75</td>\n",
       "      <td>NaN</td>\n",
       "      <td>Q</td>\n",
       "    </tr>\n",
       "  </tbody>\n",
       "</table>\n",
       "</div>"
      ],
      "text/plain": [
       "     PassengerId  Survived  Pclass                                      Name  \\\n",
       "886          887         0       2                     Montvila, Rev. Juozas   \n",
       "887          888         1       1              Graham, Miss. Margaret Edith   \n",
       "888          889         0       3  Johnston, Miss. Catherine Helen \"Carrie\"   \n",
       "889          890         1       1                     Behr, Mr. Karl Howell   \n",
       "890          891         0       3                       Dooley, Mr. Patrick   \n",
       "\n",
       "        Sex   Age  SibSp  Parch      Ticket   Fare Cabin Embarked  \n",
       "886    male  27.0      0      0      211536  13.00   NaN        S  \n",
       "887  female  19.0      0      0      112053  30.00   B42        S  \n",
       "888  female   NaN      1      2  W./C. 6607  23.45   NaN        S  \n",
       "889    male  26.0      0      0      111369  30.00  C148        C  \n",
       "890    male  32.0      0      0      370376   7.75   NaN        Q  "
      ]
     },
     "execution_count": 3,
     "metadata": {},
     "output_type": "execute_result"
    }
   ],
   "source": [
    "# Print the last few records to review data and format\n",
    "titanicData.tail()"
   ]
  },
  {
   "cell_type": "markdown",
   "metadata": {},
   "source": [
    "**Note**: Some values for Age are NaN (no a number or missing), while ticket and cabin values are alphanumeric and also missing values with NaN. Based on the questions I am going to solve, we will not require either Ticket's or Cabin's data."
   ]
  },
  {
   "cell_type": "markdown",
   "metadata": {},
   "source": [
    "### 3. Data Cleanup"
   ]
  },
  {
   "cell_type": "markdown",
   "metadata": {},
   "source": [
    "Since I will be analysing the dataset from a macro point of view, I don't need the detail of each singel passangers. From the record above, we can observe that there are some columns that I won't need to answer my questions. Therefore, I'll be removing these columns. This will reduce the number of columns and help me to implove the analysis performance of the dataset.\n",
    "* **PassengerId**\n",
    "* **Name**\n",
    "* **Ticket**\n",
    "* **Cabin**\n",
    "* **Fare**\n",
    "* **Embarked**"
   ]
  },
  {
   "cell_type": "markdown",
   "metadata": {},
   "source": [
    "I'll take 3 steps to cleanup my dataset\n",
    "1. Identify and remove any duplicate entries\n",
    "2. Remove unnecessary columns\n",
    "3. Fix missing data issue and data format issues"
   ]
  },
  {
   "cell_type": "markdown",
   "metadata": {},
   "source": [
    "**Step 1 - Remove duplicate entries**"
   ]
  },
  {
   "cell_type": "code",
   "execution_count": 4,
   "metadata": {},
   "outputs": [
    {
     "name": "stdout",
     "output_type": "stream",
     "text": [
      "Number of duplicate entries is/are 0\n"
     ]
    }
   ],
   "source": [
    "# Identify and remove duplicate entries\n",
    "titanicDataDuplicates = titanicData.duplicated()\n",
    "print('Number of duplicate entries is/are {}'.format(titanicDataDuplicates.sum()))"
   ]
  },
  {
   "cell_type": "markdown",
   "metadata": {},
   "source": [
    "**duplicated()** is a function that come with Panda. It will return a new dataset that contain duplicated data from the given dataset. This test indicated that there is not duplicates entires exist in the titanic dataset."
   ]
  },
  {
   "cell_type": "markdown",
   "metadata": {},
   "source": [
    "**Step 2 - Remove unnecessary columns**"
   ]
  },
  {
   "cell_type": "markdown",
   "metadata": {},
   "source": [
    "Columns (PassengerId, Name, Ticket, Cabin, Fare, Embarked) will be removed"
   ]
  },
  {
   "cell_type": "code",
   "execution_count": 5,
   "metadata": {},
   "outputs": [
    {
     "data": {
      "text/html": [
       "<div>\n",
       "<style>\n",
       "    .dataframe thead tr:only-child th {\n",
       "        text-align: right;\n",
       "    }\n",
       "\n",
       "    .dataframe thead th {\n",
       "        text-align: left;\n",
       "    }\n",
       "\n",
       "    .dataframe tbody tr th {\n",
       "        vertical-align: top;\n",
       "    }\n",
       "</style>\n",
       "<table border=\"1\" class=\"dataframe\">\n",
       "  <thead>\n",
       "    <tr style=\"text-align: right;\">\n",
       "      <th></th>\n",
       "      <th>Survived</th>\n",
       "      <th>Pclass</th>\n",
       "      <th>Sex</th>\n",
       "      <th>Age</th>\n",
       "      <th>SibSp</th>\n",
       "      <th>Parch</th>\n",
       "    </tr>\n",
       "  </thead>\n",
       "  <tbody>\n",
       "    <tr>\n",
       "      <th>0</th>\n",
       "      <td>0</td>\n",
       "      <td>3</td>\n",
       "      <td>male</td>\n",
       "      <td>22.0</td>\n",
       "      <td>1</td>\n",
       "      <td>0</td>\n",
       "    </tr>\n",
       "    <tr>\n",
       "      <th>1</th>\n",
       "      <td>1</td>\n",
       "      <td>1</td>\n",
       "      <td>female</td>\n",
       "      <td>38.0</td>\n",
       "      <td>1</td>\n",
       "      <td>0</td>\n",
       "    </tr>\n",
       "    <tr>\n",
       "      <th>2</th>\n",
       "      <td>1</td>\n",
       "      <td>3</td>\n",
       "      <td>female</td>\n",
       "      <td>26.0</td>\n",
       "      <td>0</td>\n",
       "      <td>0</td>\n",
       "    </tr>\n",
       "    <tr>\n",
       "      <th>3</th>\n",
       "      <td>1</td>\n",
       "      <td>1</td>\n",
       "      <td>female</td>\n",
       "      <td>35.0</td>\n",
       "      <td>1</td>\n",
       "      <td>0</td>\n",
       "    </tr>\n",
       "    <tr>\n",
       "      <th>4</th>\n",
       "      <td>0</td>\n",
       "      <td>3</td>\n",
       "      <td>male</td>\n",
       "      <td>35.0</td>\n",
       "      <td>0</td>\n",
       "      <td>0</td>\n",
       "    </tr>\n",
       "  </tbody>\n",
       "</table>\n",
       "</div>"
      ],
      "text/plain": [
       "   Survived  Pclass     Sex   Age  SibSp  Parch\n",
       "0         0       3    male  22.0      1      0\n",
       "1         1       1  female  38.0      1      0\n",
       "2         1       3  female  26.0      0      0\n",
       "3         1       1  female  35.0      1      0\n",
       "4         0       3    male  35.0      0      0"
      ]
     },
     "execution_count": 5,
     "metadata": {},
     "output_type": "execute_result"
    }
   ],
   "source": [
    "# Create new dataset without unwanted columns\n",
    "titanicDataCleaned = titanicData.drop(['PassengerId','Name','Ticket','Cabin','Fare','Embarked'], axis=1)\n",
    "\n",
    "# Print the first few records to review data in the new titanicDataCleaned variable\n",
    "titanicDataCleaned.head()"
   ]
  },
  {
   "cell_type": "markdown",
   "metadata": {},
   "source": [
    "**drop()** is a function that come with Panda. It will return a new object with labels in requested axis removed."
   ]
  },
  {
   "cell_type": "markdown",
   "metadata": {},
   "source": [
    "**Step 3 - Fix any missing or data format issues**"
   ]
  },
  {
   "cell_type": "markdown",
   "metadata": {},
   "source": [
    "A data is missing from a row indicate that the cell in that row is either empty/None or contain NAN"
   ]
  },
  {
   "cell_type": "code",
   "execution_count": 6,
   "metadata": {},
   "outputs": [
    {
     "data": {
      "text/plain": [
       "Survived      0\n",
       "Pclass        0\n",
       "Sex           0\n",
       "Age         177\n",
       "SibSp         0\n",
       "Parch         0\n",
       "dtype: int64"
      ]
     },
     "execution_count": 6,
     "metadata": {},
     "output_type": "execute_result"
    }
   ],
   "source": [
    "# Calculate number of missing values\n",
    "titanicDataCleaned.isnull().sum()"
   ]
  },
  {
   "cell_type": "markdown",
   "metadata": {},
   "source": [
    "**isnull()**  is a function that come with Panda. It will detect missing values (NaN in numeric arrays, None/NaN in object arrays). From this analysis, we observed that the dataset are missing some passanger Age data."
   ]
  },
  {
   "cell_type": "code",
   "execution_count": 7,
   "metadata": {},
   "outputs": [
    {
     "data": {
      "text/html": [
       "<div>\n",
       "<style>\n",
       "    .dataframe thead tr:only-child th {\n",
       "        text-align: right;\n",
       "    }\n",
       "\n",
       "    .dataframe thead th {\n",
       "        text-align: left;\n",
       "    }\n",
       "\n",
       "    .dataframe tbody tr th {\n",
       "        vertical-align: top;\n",
       "    }\n",
       "</style>\n",
       "<table border=\"1\" class=\"dataframe\">\n",
       "  <thead>\n",
       "    <tr style=\"text-align: right;\">\n",
       "      <th></th>\n",
       "      <th>Survived</th>\n",
       "      <th>Pclass</th>\n",
       "      <th>Sex</th>\n",
       "      <th>Age</th>\n",
       "      <th>SibSp</th>\n",
       "      <th>Parch</th>\n",
       "    </tr>\n",
       "  </thead>\n",
       "  <tbody>\n",
       "    <tr>\n",
       "      <th>5</th>\n",
       "      <td>0</td>\n",
       "      <td>3</td>\n",
       "      <td>male</td>\n",
       "      <td>NaN</td>\n",
       "      <td>0</td>\n",
       "      <td>0</td>\n",
       "    </tr>\n",
       "    <tr>\n",
       "      <th>17</th>\n",
       "      <td>1</td>\n",
       "      <td>2</td>\n",
       "      <td>male</td>\n",
       "      <td>NaN</td>\n",
       "      <td>0</td>\n",
       "      <td>0</td>\n",
       "    </tr>\n",
       "    <tr>\n",
       "      <th>19</th>\n",
       "      <td>1</td>\n",
       "      <td>3</td>\n",
       "      <td>female</td>\n",
       "      <td>NaN</td>\n",
       "      <td>0</td>\n",
       "      <td>0</td>\n",
       "    </tr>\n",
       "    <tr>\n",
       "      <th>26</th>\n",
       "      <td>0</td>\n",
       "      <td>3</td>\n",
       "      <td>male</td>\n",
       "      <td>NaN</td>\n",
       "      <td>0</td>\n",
       "      <td>0</td>\n",
       "    </tr>\n",
       "    <tr>\n",
       "      <th>28</th>\n",
       "      <td>1</td>\n",
       "      <td>3</td>\n",
       "      <td>female</td>\n",
       "      <td>NaN</td>\n",
       "      <td>0</td>\n",
       "      <td>0</td>\n",
       "    </tr>\n",
       "  </tbody>\n",
       "</table>\n",
       "</div>"
      ],
      "text/plain": [
       "    Survived  Pclass     Sex  Age  SibSp  Parch\n",
       "5          0       3    male  NaN      0      0\n",
       "17         1       2    male  NaN      0      0\n",
       "19         1       3  female  NaN      0      0\n",
       "26         0       3    male  NaN      0      0\n",
       "28         1       3  female  NaN      0      0"
      ]
     },
     "execution_count": 7,
     "metadata": {},
     "output_type": "execute_result"
    }
   ],
   "source": [
    "# Review some of the missing Age data\n",
    "missingAgeBool = pd.isnull(titanicDataCleaned['Age'])\n",
    "titanicDataCleaned[missingAgeBool].head()"
   ]
  },
  {
   "cell_type": "code",
   "execution_count": 8,
   "metadata": {},
   "outputs": [
    {
     "name": "stdout",
     "output_type": "stream",
     "text": [
      "Number for females and males with age missing are 53 and 124 respectively\n"
     ]
    }
   ],
   "source": [
    "# Determine number of males and females with missing age values\n",
    "missingAgeFemale = titanicDataCleaned[missingAgeBool]['Sex'] == 'female'\n",
    "missingAgeMale = titanicDataCleaned[missingAgeBool]['Sex'] == 'male'\n",
    "\n",
    "print('Number for females and males with age missing are {} and {} respectively'.format(\n",
    "missingAgeFemale.sum(),missingAgeMale.sum()))"
   ]
  },
  {
   "cell_type": "code",
   "execution_count": 9,
   "metadata": {},
   "outputs": [
    {
     "name": "stdout",
     "output_type": "stream",
     "text": [
      "<class 'pandas.core.frame.DataFrame'>\n",
      "RangeIndex: 891 entries, 0 to 890\n",
      "Data columns (total 6 columns):\n",
      "Survived    891 non-null int64\n",
      "Pclass      891 non-null int64\n",
      "Sex         891 non-null object\n",
      "Age         714 non-null float64\n",
      "SibSp       891 non-null int64\n",
      "Parch       891 non-null int64\n",
      "dtypes: float64(1), int64(4), object(1)\n",
      "memory usage: 41.8+ KB\n"
     ]
    }
   ],
   "source": [
    "# Taking a look at the datatypes\n",
    "titanicDataCleaned.info()"
   ]
  },
  {
   "cell_type": "markdown",
   "metadata": {},
   "source": [
    "**info()** is a function that come with Panda. It will print out the summary of a given DataFrame."
   ]
  },
  {
   "cell_type": "markdown",
   "metadata": {},
   "source": [
    "The missing Age data will affect the second question about the relationship between age (regardless of sex) and the chances of survival. However, the graphs and summations shouldn't be a problem since they will be treated as zero(0). However, 177 is roughly 20% of our 891 sample dataset which seems like a lot to discount. Also, this needs to be accounted for if reviewing descriptive stats such as mean age."
   ]
  },
  {
   "cell_type": "markdown",
   "metadata": {
    "collapsed": true
   },
   "source": [
    "### 4. Data Exploration and Visualization"
   ]
  },
  {
   "cell_type": "code",
   "execution_count": 10,
   "metadata": {},
   "outputs": [
    {
     "data": {
      "text/html": [
       "<div>\n",
       "<style>\n",
       "    .dataframe thead tr:only-child th {\n",
       "        text-align: right;\n",
       "    }\n",
       "\n",
       "    .dataframe thead th {\n",
       "        text-align: left;\n",
       "    }\n",
       "\n",
       "    .dataframe tbody tr th {\n",
       "        vertical-align: top;\n",
       "    }\n",
       "</style>\n",
       "<table border=\"1\" class=\"dataframe\">\n",
       "  <thead>\n",
       "    <tr style=\"text-align: right;\">\n",
       "      <th></th>\n",
       "      <th>Survived</th>\n",
       "      <th>Pclass</th>\n",
       "      <th>Age</th>\n",
       "      <th>SibSp</th>\n",
       "      <th>Parch</th>\n",
       "    </tr>\n",
       "  </thead>\n",
       "  <tbody>\n",
       "    <tr>\n",
       "      <th>count</th>\n",
       "      <td>891.000000</td>\n",
       "      <td>891.000000</td>\n",
       "      <td>714.000000</td>\n",
       "      <td>891.000000</td>\n",
       "      <td>891.000000</td>\n",
       "    </tr>\n",
       "    <tr>\n",
       "      <th>mean</th>\n",
       "      <td>0.383838</td>\n",
       "      <td>2.308642</td>\n",
       "      <td>29.699118</td>\n",
       "      <td>0.523008</td>\n",
       "      <td>0.381594</td>\n",
       "    </tr>\n",
       "    <tr>\n",
       "      <th>std</th>\n",
       "      <td>0.486592</td>\n",
       "      <td>0.836071</td>\n",
       "      <td>14.526497</td>\n",
       "      <td>1.102743</td>\n",
       "      <td>0.806057</td>\n",
       "    </tr>\n",
       "    <tr>\n",
       "      <th>min</th>\n",
       "      <td>0.000000</td>\n",
       "      <td>1.000000</td>\n",
       "      <td>0.420000</td>\n",
       "      <td>0.000000</td>\n",
       "      <td>0.000000</td>\n",
       "    </tr>\n",
       "    <tr>\n",
       "      <th>25%</th>\n",
       "      <td>0.000000</td>\n",
       "      <td>2.000000</td>\n",
       "      <td>20.125000</td>\n",
       "      <td>0.000000</td>\n",
       "      <td>0.000000</td>\n",
       "    </tr>\n",
       "    <tr>\n",
       "      <th>50%</th>\n",
       "      <td>0.000000</td>\n",
       "      <td>3.000000</td>\n",
       "      <td>28.000000</td>\n",
       "      <td>0.000000</td>\n",
       "      <td>0.000000</td>\n",
       "    </tr>\n",
       "    <tr>\n",
       "      <th>75%</th>\n",
       "      <td>1.000000</td>\n",
       "      <td>3.000000</td>\n",
       "      <td>38.000000</td>\n",
       "      <td>1.000000</td>\n",
       "      <td>0.000000</td>\n",
       "    </tr>\n",
       "    <tr>\n",
       "      <th>max</th>\n",
       "      <td>1.000000</td>\n",
       "      <td>3.000000</td>\n",
       "      <td>80.000000</td>\n",
       "      <td>8.000000</td>\n",
       "      <td>6.000000</td>\n",
       "    </tr>\n",
       "  </tbody>\n",
       "</table>\n",
       "</div>"
      ],
      "text/plain": [
       "         Survived      Pclass         Age       SibSp       Parch\n",
       "count  891.000000  891.000000  714.000000  891.000000  891.000000\n",
       "mean     0.383838    2.308642   29.699118    0.523008    0.381594\n",
       "std      0.486592    0.836071   14.526497    1.102743    0.806057\n",
       "min      0.000000    1.000000    0.420000    0.000000    0.000000\n",
       "25%      0.000000    2.000000   20.125000    0.000000    0.000000\n",
       "50%      0.000000    3.000000   28.000000    0.000000    0.000000\n",
       "75%      1.000000    3.000000   38.000000    1.000000    0.000000\n",
       "max      1.000000    3.000000   80.000000    8.000000    6.000000"
      ]
     },
     "execution_count": 10,
     "metadata": {},
     "output_type": "execute_result"
    }
   ],
   "source": [
    "# Looking at some typical descriptive statistics\n",
    "titanicDataCleaned.describe()"
   ]
  },
  {
   "cell_type": "markdown",
   "metadata": {},
   "source": [
    "**describe()** is a function that come with Panda. It will generates descriptive statistics that summarize the central tendency, dispersion and shape of a dataset’s distribution, excluding NaN values.\n",
    "\n",
    "Analyzes both numeric and object series, as well as DataFrame column sets of mixed data types. The output will vary depending on what is provided. Refer to the notes below for more detail."
   ]
  },
  {
   "cell_type": "code",
   "execution_count": 11,
   "metadata": {},
   "outputs": [
    {
     "data": {
      "text/html": [
       "<div>\n",
       "<style>\n",
       "    .dataframe thead tr:only-child th {\n",
       "        text-align: right;\n",
       "    }\n",
       "\n",
       "    .dataframe thead th {\n",
       "        text-align: left;\n",
       "    }\n",
       "\n",
       "    .dataframe tbody tr th {\n",
       "        vertical-align: top;\n",
       "    }\n",
       "</style>\n",
       "<table border=\"1\" class=\"dataframe\">\n",
       "  <thead>\n",
       "    <tr style=\"text-align: right;\">\n",
       "      <th></th>\n",
       "      <th>Survived</th>\n",
       "      <th>Pclass</th>\n",
       "      <th>Sex</th>\n",
       "      <th>Age</th>\n",
       "      <th>SibSp</th>\n",
       "      <th>Parch</th>\n",
       "    </tr>\n",
       "  </thead>\n",
       "  <tbody>\n",
       "    <tr>\n",
       "      <th>78</th>\n",
       "      <td>1</td>\n",
       "      <td>2</td>\n",
       "      <td>male</td>\n",
       "      <td>0.83</td>\n",
       "      <td>0</td>\n",
       "      <td>2</td>\n",
       "    </tr>\n",
       "    <tr>\n",
       "      <th>305</th>\n",
       "      <td>1</td>\n",
       "      <td>1</td>\n",
       "      <td>male</td>\n",
       "      <td>0.92</td>\n",
       "      <td>1</td>\n",
       "      <td>2</td>\n",
       "    </tr>\n",
       "    <tr>\n",
       "      <th>469</th>\n",
       "      <td>1</td>\n",
       "      <td>3</td>\n",
       "      <td>female</td>\n",
       "      <td>0.75</td>\n",
       "      <td>2</td>\n",
       "      <td>1</td>\n",
       "    </tr>\n",
       "    <tr>\n",
       "      <th>644</th>\n",
       "      <td>1</td>\n",
       "      <td>3</td>\n",
       "      <td>female</td>\n",
       "      <td>0.75</td>\n",
       "      <td>2</td>\n",
       "      <td>1</td>\n",
       "    </tr>\n",
       "    <tr>\n",
       "      <th>755</th>\n",
       "      <td>1</td>\n",
       "      <td>2</td>\n",
       "      <td>male</td>\n",
       "      <td>0.67</td>\n",
       "      <td>1</td>\n",
       "      <td>1</td>\n",
       "    </tr>\n",
       "    <tr>\n",
       "      <th>803</th>\n",
       "      <td>1</td>\n",
       "      <td>3</td>\n",
       "      <td>male</td>\n",
       "      <td>0.42</td>\n",
       "      <td>0</td>\n",
       "      <td>1</td>\n",
       "    </tr>\n",
       "    <tr>\n",
       "      <th>831</th>\n",
       "      <td>1</td>\n",
       "      <td>2</td>\n",
       "      <td>male</td>\n",
       "      <td>0.83</td>\n",
       "      <td>1</td>\n",
       "      <td>1</td>\n",
       "    </tr>\n",
       "  </tbody>\n",
       "</table>\n",
       "</div>"
      ],
      "text/plain": [
       "     Survived  Pclass     Sex   Age  SibSp  Parch\n",
       "78          1       2    male  0.83      0      2\n",
       "305         1       1    male  0.92      1      2\n",
       "469         1       3  female  0.75      2      1\n",
       "644         1       3  female  0.75      2      1\n",
       "755         1       2    male  0.67      1      1\n",
       "803         1       3    male  0.42      0      1\n",
       "831         1       2    male  0.83      1      1"
      ]
     },
     "execution_count": 11,
     "metadata": {},
     "output_type": "execute_result"
    }
   ],
   "source": [
    "# Age min at 0.42 looks a bit weird so give a closer look\n",
    "titanicDataCleaned[titanicDataCleaned['Age'] < 1]"
   ]
  },
  {
   "cell_type": "code",
   "execution_count": 12,
   "metadata": {},
   "outputs": [
    {
     "name": "stdout",
     "output_type": "stream",
     "text": [
      "Youngest to survive: 0.42 \n",
      "Youngest to die: 1.0 \n",
      "Oldest to survive: 80.0 \n",
      "Oldest to die: 74.0\n"
     ]
    }
   ],
   "source": [
    "# Taking a look at some survival rates for babies\n",
    "youngestToSurvive = titanicDataCleaned[titanicDataCleaned['Survived'] == True]['Age'].min()\n",
    "youngestToDie = titanicDataCleaned[titanicDataCleaned['Survived'] == False]['Age'].min()\n",
    "oldestToSurvive = titanicDataCleaned[titanicDataCleaned['Survived'] == True]['Age'].max()\n",
    "oldestToDie = titanicDataCleaned[titanicDataCleaned['Survived'] == False]['Age'].max()\n",
    "\n",
    "print('Youngest to survive: {} \\nYoungest to die: {} \\nOldest to survive: {} \\nOldest to die: {}'.format(\n",
    "youngestToSurvive, youngestToDie, oldestToSurvive, oldestToDie))"
   ]
  },
  {
   "cell_type": "markdown",
   "metadata": {},
   "source": [
    "Data description states that Age can be fractional - Age is in Years; Fractional if Age less than One (1) If the Age is Estimated, it is in the form xx.5 - Therefore, 0.42 appears to be expected and normal data\n"
   ]
  },
  {
   "cell_type": "markdown",
   "metadata": {},
   "source": [
    "## Question 1"
   ]
  },
  {
   "cell_type": "markdown",
   "metadata": {},
   "source": [
    "Did higher social-economic status caused a higher survival rate?"
   ]
  },
  {
   "cell_type": "code",
   "execution_count": 13,
   "metadata": {
    "collapsed": true
   },
   "outputs": [],
   "source": [
    "# Returns survival rate/percentage of sex and class\n",
    "def survival_rate(pclass, sex):\n",
    "    \"\"\"\n",
    "    Args:\n",
    "        pclass: class value 1,2 or 3\n",
    "        sex: male or female\n",
    "    Returns:\n",
    "        survival rate as percentage.\n",
    "    \"\"\"\n",
    "    groupedByTotal = titanicDataCleaned.groupby(['Pclass', 'Sex']).size()[pclass,sex].astype('float')\n",
    "    groupedBySurvivedSex = titanicDataCleaned.groupby(['Pclass','Survived','Sex']).size()[pclass,1,sex].astype('float')\n",
    "    survivedSexPercentage = (groupedBySurvivedSex / groupedByTotal * 100).round(2)\n",
    "    \n",
    "    return survivedSexPercentage"
   ]
  },
  {
   "cell_type": "code",
   "execution_count": 14,
   "metadata": {},
   "outputs": [
    {
     "name": "stdout",
     "output_type": "stream",
     "text": [
      "Pclass  Survived  Sex   \n",
      "1       0         female      3\n",
      "                  male       77\n",
      "        1         female     91\n",
      "                  male       45\n",
      "2       0         female      6\n",
      "                  male       91\n",
      "        1         female     70\n",
      "                  male       17\n",
      "3       0         female     72\n",
      "                  male      300\n",
      "        1         female     72\n",
      "                  male       47\n",
      "dtype: int64\n",
      "Class 1 - female survival rate: 96.81%\n",
      "Class 1 - male survival rate: 36.89%\n",
      "-----\n",
      "Class 2 - female survival rate: 92.11%\n",
      "Class 2 - male survival rate: 15.74%\n",
      "-----\n",
      "Class 3 - female survival rate: 50.0%\n",
      "Class 3 - male survival rate: 13.54%\n"
     ]
    },
    {
     "data": {
      "image/png": "[encoded data removed]",
      "text/plain": [
       "<matplotlib.figure.Figure at 0x190d9b8e390>"
      ]
     },
     "metadata": {},
     "output_type": "display_data"
    },
    {
     "data": {
      "image/png": "[encoded data removed]",
      "text/plain": [
       "<matplotlib.figure.Figure at 0x190d9e84c88>"
      ]
     },
     "metadata": {},
     "output_type": "display_data"
    }
   ],
   "source": [
    "# Get the actual numbers grouped by class, suvival and sex\n",
    "groupedbyClassSurvivedSize = titanicDataCleaned.groupby(['Pclass','Survived','Sex']).size()\n",
    "\n",
    "# Print - Grouped by class, survival and sex\n",
    "print(groupedbyClassSurvivedSize)\n",
    "print('Class 1 - female survival rate: {}%'.format(survival_rate(1,'female')))\n",
    "print('Class 1 - male survival rate: {}%'.format(survival_rate(1,'male')))\n",
    "print('-----')\n",
    "print('Class 2 - female survival rate: {}%'.format(survival_rate(2,'female')))\n",
    "print('Class 2 - male survival rate: {}%'.format(survival_rate(2,'male')))\n",
    "print('-----')\n",
    "print('Class 3 - female survival rate: {}%'.format(survival_rate(3,'female')))\n",
    "print('Class 3 - male survival rate: {}%'.format(survival_rate(3,'male')))\n",
    "\n",
    "# Graph - Grouped by class, survival and sex\n",
    "g = sns.factorplot(x=\"Sex\", y=\"Survived\", col=\"Pclass\", data=titanicDataCleaned, \n",
    "                   saturation=.5, kind=\"bar\", ci=None, size=5, aspect=.8)\n",
    "\n",
    "# Fix up the labels\n",
    "(g.set_axis_labels('', 'Survival Rate')\n",
    "     .set_xticklabels([\"Men\", \"Women\"])\n",
    "     .set_titles(\"Class {col_name}\")\n",
    "     .set(ylim=(0, 1))\n",
    "     .despine(left=True, bottom=True))\n",
    "\n",
    "# Graph - Actual count of passengers by survival, group and sex\n",
    "g = sns.factorplot('Survived', col='Sex', hue='Pclass', data=titanicDataCleaned, kind='count', size=7, aspect=.8)\n",
    "\n",
    "# Fix up the labels\n",
    "(g.set_axis_labels('Suvivors', 'No. of Passengers')\n",
    "    .set_xticklabels([\"False\", \"True\"])\n",
    "    .set_titles('{col_name}')\n",
    ")\n",
    "\n",
    "titles = ['Men', 'Women']\n",
    "for ax, title in zip(g.axes.flat, titles):\n",
    "    ax.set_title(title)"
   ]
  },
  {
   "cell_type": "markdown",
   "metadata": {},
   "source": [
    "Based on the raw numbers it would appear as though passengers in Class 3 had a similar survival rate as those from Class 1 with **119 and 136 passengers surviving respectively**. However, looking at the percentages of the overall passengers per class and the total numbers across each class, it can be assumed that **a passenger from Class 1 is about 2.5x times more likely to survive than a passenger in Class 3**.\n",
    "\n",
    "Social-economic standing was a factor in survival rate of passengers. \n",
    "* Class 1: **62.96% **\n",
    "* Class 2: **47.28%**\n",
    "* Class 3: **24.24%**"
   ]
  },
  {
   "cell_type": "markdown",
   "metadata": {},
   "source": [
    "## Question 2"
   ]
  },
  {
   "cell_type": "markdown",
   "metadata": {},
   "source": [
    "Did age, regardless of sex, determine your chances of survival?"
   ]
  },
  {
   "cell_type": "code",
   "execution_count": 25,
   "metadata": {},
   "outputs": [
    {
     "name": "stdout",
     "output_type": "stream",
     "text": [
      "Number of men and woman with age missing are 53 and 124 respectively\n",
      "Total number of survivors 290 \n",
      "Total number of non survivors 424 \n",
      "Mean age of survivors 1      0.0\n",
      "2      0.0\n",
      "3      0.0\n",
      "8      0.0\n",
      "9      1.0\n",
      "10     1.0\n",
      "11     0.0\n",
      "15     0.0\n",
      "21     0.0\n",
      "22     0.0\n",
      "23     0.0\n",
      "25     0.0\n",
      "39     1.0\n",
      "43     1.0\n",
      "44     0.0\n",
      "52     0.0\n",
      "53     0.0\n",
      "56     0.0\n",
      "58     1.0\n",
      "61     0.0\n",
      "66     0.0\n",
      "68     0.0\n",
      "74     0.0\n",
      "78     1.0\n",
      "79     0.0\n",
      "81     0.0\n",
      "84     0.0\n",
      "85     0.0\n",
      "88     0.0\n",
      "97     0.0\n",
      "      ... \n",
      "802    1.0\n",
      "803    1.0\n",
      "804    0.0\n",
      "809    0.0\n",
      "820    0.0\n",
      "821    0.0\n",
      "823    0.0\n",
      "827    1.0\n",
      "829    0.0\n",
      "830    0.0\n",
      "831    1.0\n",
      "835    0.0\n",
      "838    0.0\n",
      "842    0.0\n",
      "853    0.0\n",
      "855    0.0\n",
      "856    0.0\n",
      "857    0.0\n",
      "858    0.0\n",
      "862    0.0\n",
      "865    0.0\n",
      "866    0.0\n",
      "869    1.0\n",
      "871    0.0\n",
      "874    0.0\n",
      "875    0.0\n",
      "879    0.0\n",
      "880    0.0\n",
      "887    0.0\n",
      "889    0.0\n",
      "Name: Age, Length: 290, dtype: float16 \n",
      "Mean age of non survivors 0      1.0\n",
      "4      1.0\n",
      "6      1.0\n",
      "7      0.0\n",
      "12     1.0\n",
      "13     1.0\n",
      "14     0.0\n",
      "16     0.0\n",
      "18     1.0\n",
      "20     1.0\n",
      "24     0.0\n",
      "27     1.0\n",
      "30     1.0\n",
      "33     1.0\n",
      "34     1.0\n",
      "35     1.0\n",
      "37     1.0\n",
      "38     1.0\n",
      "40     1.0\n",
      "41     1.0\n",
      "49     1.0\n",
      "50     0.0\n",
      "51     1.0\n",
      "54     1.0\n",
      "57     1.0\n",
      "59     0.0\n",
      "60     1.0\n",
      "62     1.0\n",
      "63     0.0\n",
      "67     1.0\n",
      "      ... \n",
      "833    1.0\n",
      "834    1.0\n",
      "836    1.0\n",
      "840    1.0\n",
      "841    1.0\n",
      "843    1.0\n",
      "844    1.0\n",
      "845    1.0\n",
      "847    1.0\n",
      "848    1.0\n",
      "850    0.0\n",
      "851    1.0\n",
      "852    0.0\n",
      "854    1.0\n",
      "860    1.0\n",
      "861    1.0\n",
      "864    1.0\n",
      "867    1.0\n",
      "870    1.0\n",
      "872    1.0\n",
      "873    1.0\n",
      "876    1.0\n",
      "877    1.0\n",
      "881    1.0\n",
      "882    1.0\n",
      "883    1.0\n",
      "884    1.0\n",
      "885    1.0\n",
      "886    1.0\n",
      "890    1.0\n",
      "Name: Age, Length: 424, dtype: float16 \n",
      "Oldest to survive 80.0 \n",
      "Oldest to not survive 74.0\n"
     ]
    },
    {
     "data": {
      "text/plain": [
       "<seaborn.axisgrid.FacetGrid at 0x190da114eb8>"
      ]
     },
     "execution_count": 25,
     "metadata": {},
     "output_type": "execute_result"
    },
    {
     "data": {
      "image/png": "[encoded data removed]",
      "text/plain": [
       "<matplotlib.figure.Figure at 0x190da1280b8>"
      ]
     },
     "metadata": {},
     "output_type": "display_data"
    }
   ],
   "source": [
    "# Let us first identify and get rid of records with missing Age\n",
    "print('Number of men and woman with age missing are {} and {} respectively'.format(\n",
    "    missingAgeFemale.sum(),missingAgeMale.sum()))\n",
    "\n",
    "# Drop the NaN values. Calculations will be okay with them (seen as zero) but will throw off averages and counts\n",
    "titanicDataAgeCleaned = titanicDataCleaned.dropna()\n",
    "\n",
    "# Find total count of survivors and those who didn't\n",
    "numberSurvived = titanicDataAgeCleaned[titanicDataAgeCleaned['Survived'] == True]['Survived'].count()\n",
    "numberDied = titanicDataAgeCleaned[titanicDataAgeCleaned['Survived'] == False]['Survived'].count()\n",
    "\n",
    "# Find average of survivors and those who didn't\n",
    "meanAgeSurvived = titanicDataAgeCleaned[titanicDataAgeCleaned['Survived'] == True]['Age'].mean()\n",
    "meanAgeDied = titanicDataAgeCleaned[titanicDataAgeCleaned['Survived'] == False]['Age'].mean()\n",
    "\n",
    "# Display a few raw totals\n",
    "print('Total number of survivors {} \\n\\\n",
    "Total number of non survivors {} \\n\\\n",
    "Mean age of survivors {} \\n\\\n",
    "Mean age of non survivors {} \\n\\\n",
    "Oldest to survive {} \\n\\\n",
    "Oldest to not survive {}' \\\n",
    ".format(numberSurvived, numberDied, np.round(meanAgeSurvived), \n",
    "        np.round(meanAgeDied), oldestToSurvive, oldestToDie))\n",
    "\n",
    "# Graph - Age of passengers across sex of those who survived\n",
    "g = sns.factorplot(x=\"Survived\", y=\"Age\", hue='Sex', data=titanicDataAgeCleaned, kind=\"box\", size=7, aspect=.8)\n",
    "\n",
    "# Fix up the labels\n",
    "(g.set_axis_labels('Suvivors', 'Age of Passengers')\n",
    "    .set_xticklabels([\"False\", \"True\"])\n",
    ")"
   ]
  },
  {
   "cell_type": "markdown",
   "metadata": {},
   "source": [
    "Based on the above boxplot and calculated data, it would appear that:\n",
    "* Regardless of sex and class, **age was not** a deciding factor in the passenger survival rate\n",
    "* Average age for those who survived and even those who did not survive were inline with eachother"
   ]
  },
  {
   "cell_type": "markdown",
   "metadata": {},
   "source": [
    "## Question 3"
   ]
  },
  {
   "cell_type": "markdown",
   "metadata": {},
   "source": [
    "Did women have higher chance to survival than adult male?"
   ]
  },
  {
   "cell_type": "code",
   "execution_count": 24,
   "metadata": {},
   "outputs": [
    {
     "name": "stdout",
     "output_type": "stream",
     "text": [
      "Category  Survived\n",
      "Man       0.0         360\n",
      "          1.0          93\n",
      "Woman     0.0          64\n",
      "          1.0         197\n",
      "dtype: int64\n"
     ]
    },
    {
     "data": {
      "image/png": "[encoded data removed]",
      "text/plain": [
       "<matplotlib.figure.Figure at 0x190da534358>"
      ]
     },
     "metadata": {},
     "output_type": "display_data"
    }
   ],
   "source": [
    "# Create Cateogry column and categorize people\n",
    "titanicDataAgeCleaned.loc[\n",
    "    'female',\n",
    "    'Category'] = 'Woman'\n",
    "\n",
    "titanicDataAgeCleaned.loc[\n",
    "    'male',\n",
    "    'Category'] = 'Man'\n",
    "\n",
    "# Get the totals grouped by Men and Women, and by survival\n",
    "print(titanicDataAgeCleaned.groupby(['Category','Survived']).size())\n",
    "\n",
    "# Graph - Compare survival count between Men and Women\n",
    "g = sns.factorplot('Survived', col='Category', data=titanicDataAgeCleaned, kind='count', size=7, aspect=.8)\n",
    "\n",
    "# Fix up the labels\n",
    "(g.set_axis_labels('Suvivors', 'No. of Passengers')\n",
    "    .set_xticklabels(['False', 'True'])\n",
    ")\n",
    "\n",
    "titles = ['Men', 'Women']\n",
    "for ax, title in zip(g.axes.flat, titles):\n",
    "    ax.set_title(title)"
   ]
  },
  {
   "cell_type": "markdown",
   "metadata": {},
   "source": [
    "Overall, women have higher survive rate than men. The graphs tends to support the idea that \"laddy first\" possibly played a role in the survival of a number of people."
   ]
  },
  {
   "cell_type": "markdown",
   "metadata": {},
   "source": [
    "## Conclusion"
   ]
  },
  {
   "cell_type": "markdown",
   "metadata": {},
   "source": [
    "The results of the analysis indicate that a female with upper social-economic standing (first class), would give one the best chance of survival during the Titanic tragedy occurred. Age did not seem to be a major survive factor. While being a man in third class, gave one the lowest chance of survival. Overall, women across all classes tend to have a higher survival rate than men in genernal."
   ]
  },
  {
   "cell_type": "markdown",
   "metadata": {},
   "source": [
    "**Issues:**\n",
    "* A portion of men and women did not have Age data and were removed from calculations which could have skewed some numbers."
   ]
  }
 ],
 "metadata": {
  "kernelspec": {
   "display_name": "Python [default]",
   "language": "python",
   "name": "python3"
  },
  "language_info": {
   "codemirror_mode": {
    "name": "ipython",
    "version": 3
   },
   "file_extension": ".py",
   "mimetype": "text/x-python",
   "name": "python",
   "nbconvert_exporter": "python",
   "pygments_lexer": "ipython3",
   "version": "3.6.2"
  }
 },
 "nbformat": 4,
 "nbformat_minor": 2
}
